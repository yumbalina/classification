{
 "cells": [
  {
   "cell_type": "code",
   "execution_count": null,
   "metadata": {
    "id": "8Yaunr84vbEi"
   },
   "outputs": [],
   "source": [
    "#import os\n",
    "import numpy as np\n",
    "import pandas as pd\n",
    "from sklearn.tree import DecisionTreeClassifier, plot_tree, export_graphviz\n",
    "from sklearn.ensemble import RandomForestClassifier\n",
    "from sklearn.svm import SVC\n",
    "from sklearn.linear_model import LogisticRegression\n",
    "from sklearn.naive_bayes import GaussianNB\n",
    "from sklearn.neighbors import KNeighborsClassifier\n",
    "from sklearn.neural_network import MLPClassifier\n",
    "from xgboost import XGBClassifier, to_graphviz\n",
    "from sklearn.metrics import classification_report, plot_confusion_matrix,roc_curve, accuracy_score, roc_auc_score, auc\n",
    "from sklearn.model_selection import train_test_split, GridSearchCV, cross_val_score\n",
    "import matplotlib.pyplot as plt\n",
    "import graphviz\n",
    "import warnings\n",
    "warnings.filterwarnings(\"ignore\")\n",
    "plt.style.use(\"seaborn\")\n",
    "import seaborn as sns\n",
    "import time"
   ]
  },
  {
   "cell_type": "code",
   "execution_count": null,
   "metadata": {
    "id": "7BqTRdPGveYJ"
   },
   "outputs": [],
   "source": [
    "seeds = pd.read_csv(\"/content/drive/MyDrive/seeds.csv\")\n",
    "seeds.drop(\"ID\",axis=1,inplace=True)\n",
    "colnames = np.array(seeds.drop(\"seedType\",axis=1).columns)"
   ]
  },
  {
   "cell_type": "code",
   "execution_count": null,
   "metadata": {
    "id": "kpuBJkSvvod4"
   },
   "outputs": [],
   "source": [
    "IQR = seeds.asymmetryCoefficient.quantile(0.75) - seeds.asymmetryCoefficient.quantile(0.25)\n",
    "uppB = seeds.asymmetryCoefficient.quantile(0.75) + 1.5*IQR\n",
    "seeds[seeds.asymmetryCoefficient >= uppB]\n",
    "seedsNew = seeds.drop(index=[203,207],axis=0)\n",
    "X = seedsNew.drop(\"seedType\",axis=1)\n",
    "y = seedsNew.seedType -1 "
   ]
  },
  {
   "cell_type": "code",
   "execution_count": null,
   "metadata": {
    "id": "wIQ3RpnswcOw"
   },
   "outputs": [],
   "source": [
    "X_train, X_test, y_train, y_test = train_test_split(X,y,random_state=42,stratify=y,test_size=0.25)"
   ]
  },
  {
   "cell_type": "code",
   "execution_count": null,
   "metadata": {
    "colab": {
     "base_uri": "https://localhost:8080/"
    },
    "executionInfo": {
     "elapsed": 1809682,
     "status": "ok",
     "timestamp": 1630164278408,
     "user": {
      "displayName": "cem soylu",
      "photoUrl": "",
      "userId": "17083522888549837935"
     },
     "user_tz": -180
    },
    "id": "amho4aAgwkCH",
    "outputId": "15155282-1394-47fc-de25-c27a0a7eb542"
   },
   "outputs": [
    {
     "name": "stdout",
     "output_type": "stream",
     "text": [
      "Fitting 5 folds for each of 9120 candidates, totalling 45600 fits\n"
     ]
    },
    {
     "name": "stderr",
     "output_type": "stream",
     "text": [
      "[Parallel(n_jobs=-1)]: Using backend LokyBackend with 2 concurrent workers.\n",
      "[Parallel(n_jobs=-1)]: Done  46 tasks      | elapsed:    5.4s\n",
      "[Parallel(n_jobs=-1)]: Done 196 tasks      | elapsed:   45.6s\n",
      "[Parallel(n_jobs=-1)]: Done 446 tasks      | elapsed:  1.6min\n",
      "[Parallel(n_jobs=-1)]: Done 796 tasks      | elapsed:  3.1min\n",
      "[Parallel(n_jobs=-1)]: Done 1246 tasks      | elapsed:  4.7min\n",
      "[Parallel(n_jobs=-1)]: Done 1796 tasks      | elapsed:  6.9min\n",
      "[Parallel(n_jobs=-1)]: Done 2446 tasks      | elapsed:  9.4min\n",
      "[Parallel(n_jobs=-1)]: Done 3196 tasks      | elapsed: 12.4min\n",
      "[Parallel(n_jobs=-1)]: Done 4046 tasks      | elapsed: 15.6min\n",
      "[Parallel(n_jobs=-1)]: Done 4996 tasks      | elapsed: 19.4min\n",
      "[Parallel(n_jobs=-1)]: Done 6046 tasks      | elapsed: 23.4min\n",
      "[Parallel(n_jobs=-1)]: Done 7196 tasks      | elapsed: 28.0min\n",
      "[Parallel(n_jobs=-1)]: Done 8446 tasks      | elapsed: 32.7min\n",
      "[Parallel(n_jobs=-1)]: Done 9796 tasks      | elapsed: 38.1min\n",
      "[Parallel(n_jobs=-1)]: Done 11246 tasks      | elapsed: 43.7min\n",
      "[Parallel(n_jobs=-1)]: Done 12796 tasks      | elapsed: 50.7min\n",
      "[Parallel(n_jobs=-1)]: Done 14446 tasks      | elapsed: 57.6min\n",
      "[Parallel(n_jobs=-1)]: Done 16196 tasks      | elapsed: 65.0min\n",
      "[Parallel(n_jobs=-1)]: Done 18046 tasks      | elapsed: 72.6min\n",
      "[Parallel(n_jobs=-1)]: Done 19996 tasks      | elapsed: 80.8min\n",
      "[Parallel(n_jobs=-1)]: Done 22046 tasks      | elapsed: 89.3min\n",
      "[Parallel(n_jobs=-1)]: Done 24196 tasks      | elapsed: 97.0min\n",
      "[Parallel(n_jobs=-1)]: Done 26446 tasks      | elapsed: 104.2min\n",
      "[Parallel(n_jobs=-1)]: Done 28796 tasks      | elapsed: 111.8min\n",
      "[Parallel(n_jobs=-1)]: Done 31246 tasks      | elapsed: 120.3min\n",
      "[Parallel(n_jobs=-1)]: Done 33796 tasks      | elapsed: 128.6min\n",
      "[Parallel(n_jobs=-1)]: Done 36446 tasks      | elapsed: 137.2min\n",
      "[Parallel(n_jobs=-1)]: Done 39196 tasks      | elapsed: 146.7min\n",
      "[Parallel(n_jobs=-1)]: Done 42046 tasks      | elapsed: 156.4min\n",
      "[Parallel(n_jobs=-1)]: Done 44996 tasks      | elapsed: 166.5min\n",
      "[Parallel(n_jobs=-1)]: Done 45600 out of 45600 | elapsed: 168.6min finished\n"
     ]
    },
    {
     "name": "stdout",
     "output_type": "stream",
     "text": [
      "Geçen süre 10115.14570236206\n"
     ]
    }
   ],
   "source": [
    "param_grid = {\"n_estimators\":np.arange(1,500,50),\n",
    "              \"criterion\":[\"gini\",\"entropy\"],\n",
    "              \"max_depth\":np.arange(1,20),\n",
    "              \"min_samples_split\":[1,2,3,4],\n",
    "              \"max_features\":[\"auto\",\"sqrt\",\"log2\"],\n",
    "              \"bootstrap\":[True,False]}\n",
    "clf = GridSearchCV(RandomForestClassifier(),param_grid,n_jobs=-1,verbose=1)\n",
    "clf.fit(X_train,y_train)"
   ]
  },
  {
   "cell_type": "code",
   "execution_count": null,
   "metadata": {
    "colab": {
     "base_uri": "https://localhost:8080/"
    },
    "executionInfo": {
     "elapsed": 828,
     "status": "ok",
     "timestamp": 1630165417481,
     "user": {
      "displayName": "cem soylu",
      "photoUrl": "",
      "userId": "17083522888549837935"
     },
     "user_tz": -180
    },
    "id": "QdWpReOOXaa8",
    "outputId": "cc9630c2-b239-44aa-eec0-974ae4fb6d12"
   },
   "outputs": [
    {
     "data": {
      "text/plain": [
       "RandomForestClassifier(bootstrap=True, ccp_alpha=0.0, class_weight=None,\n",
       "                       criterion='entropy', max_depth=18, max_features='auto',\n",
       "                       max_leaf_nodes=None, max_samples=None,\n",
       "                       min_impurity_decrease=0.0, min_impurity_split=None,\n",
       "                       min_samples_leaf=1, min_samples_split=3,\n",
       "                       min_weight_fraction_leaf=0.0, n_estimators=401,\n",
       "                       n_jobs=None, oob_score=False, random_state=None,\n",
       "                       verbose=0, warm_start=False)"
      ]
     },
     "execution_count": 81,
     "metadata": {},
     "output_type": "execute_result"
    }
   ],
   "source": [
    "model = RandomForestClassifier(bootstrap=True, ccp_alpha=0.0, class_weight=None,\n",
    "                       criterion='entropy', max_depth=18, max_features='auto',\n",
    "                       max_leaf_nodes=None, max_samples=None,\n",
    "                       min_impurity_decrease=0.0, min_impurity_split=None,\n",
    "                       min_samples_leaf=1, min_samples_split=3,\n",
    "                       min_weight_fraction_leaf=0.0, n_estimators=401,\n",
    "                       n_jobs=None, oob_score=False, random_state=None,\n",
    "                       verbose=0, warm_start=False);\n",
    "model.fit(X_train,y_train)"
   ]
  },
  {
   "cell_type": "code",
   "execution_count": null,
   "metadata": {
    "id": "nwtobqfFXqW9"
   },
   "outputs": [],
   "source": [
    "y_pred = model.predict(X_test)"
   ]
  },
  {
   "cell_type": "code",
   "execution_count": null,
   "metadata": {
    "colab": {
     "base_uri": "https://localhost:8080/"
    },
    "executionInfo": {
     "elapsed": 6,
     "status": "ok",
     "timestamp": 1630165418271,
     "user": {
      "displayName": "cem soylu",
      "photoUrl": "",
      "userId": "17083522888549837935"
     },
     "user_tz": -180
    },
    "id": "ZmnK1I91XwnT",
    "outputId": "0ccf231d-498c-4957-9277-b04f19858e69"
   },
   "outputs": [
    {
     "name": "stdout",
     "output_type": "stream",
     "text": [
      "              precision    recall  f1-score   support\n",
      "\n",
      "           0       1.00      0.78      0.88        18\n",
      "           1       0.94      1.00      0.97        17\n",
      "           2       0.85      1.00      0.92        17\n",
      "\n",
      "    accuracy                           0.92        52\n",
      "   macro avg       0.93      0.93      0.92        52\n",
      "weighted avg       0.93      0.92      0.92        52\n",
      "\n"
     ]
    }
   ],
   "source": [
    "print(classification_report(y_test,y_pred))"
   ]
  },
  {
   "cell_type": "code",
   "execution_count": null,
   "metadata": {
    "colab": {
     "base_uri": "https://localhost:8080/"
    },
    "executionInfo": {
     "elapsed": 223,
     "status": "ok",
     "timestamp": 1630166920696,
     "user": {
      "displayName": "cem soylu",
      "photoUrl": "",
      "userId": "17083522888549837935"
     },
     "user_tz": -180
    },
    "id": "aBRooWrhXzBc",
    "outputId": "c51bab07-d6b3-40ab-ed72-f11b8a72ffbb"
   },
   "outputs": [
    {
     "data": {
      "text/plain": [
       "98.56987239340181"
      ]
     },
     "execution_count": 95,
     "metadata": {},
     "output_type": "execute_result"
    }
   ],
   "source": [
    "roc_auc_score(y_test,model.predict_proba(X_test),multi_class=\"ovr\")*100"
   ]
  },
  {
   "cell_type": "code",
   "execution_count": null,
   "metadata": {
    "id": "ZlqAFTZ0jxLG"
   },
   "outputs": [],
   "source": []
  }
 ],
 "metadata": {
  "colab": {
   "authorship_tag": "ABX9TyNcuoYAaed1a/39O5KGlQjs",
   "collapsed_sections": [],
   "mount_file_id": "1QCDmff9ZHYeQyBWCv26ht9qD-J6lPOKW",
   "name": "SeedDataTuned.ipynb",
   "provenance": []
  },
  "kernelspec": {
   "display_name": "Python 3",
   "language": "python",
   "name": "python3"
  },
  "language_info": {
   "codemirror_mode": {
    "name": "ipython",
    "version": 3
   },
   "file_extension": ".py",
   "mimetype": "text/x-python",
   "name": "python",
   "nbconvert_exporter": "python",
   "pygments_lexer": "ipython3",
   "version": "3.9.5"
  }
 },
 "nbformat": 4,
 "nbformat_minor": 4
}
