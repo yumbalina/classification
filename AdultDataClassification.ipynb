{
  "nbformat": 4,
  "nbformat_minor": 0,
  "metadata": {
    "colab": {
      "name": "adult_data.ipynb",
      "provenance": [],
      "collapsed_sections": []
    },
    "kernelspec": {
      "name": "python3",
      "display_name": "Python 3"
    },
    "language_info": {
      "name": "python"
    },
    "accelerator": "GPU"
  },
  "cells": [
    {
      "cell_type": "code",
      "metadata": {
        "id": "YVr9I4xkl6OA"
      },
      "source": [
        "import numpy as np\n",
        "import pandas as pd\n",
        "import seaborn as sns\n",
        "import matplotlib.pyplot as plt\n",
        "from sklearn.neural_network import MLPClassifier\n",
        "from sklearn.linear_model import LogisticRegression\n",
        "plt.style.use(\"seaborn\")\n",
        "from sklearn.svm import SVC\n",
        "from sklearn.tree import DecisionTreeClassifier, export_graphviz\n",
        "from sklearn.ensemble import RandomForestClassifier\n",
        "from sklearn.ensemble import ExtraTreesClassifier\n",
        "from sklearn.feature_selection import SelectFromModel, chi2, SelectKBest, f_classif, mutual_info_classif\n",
        "from sklearn.neighbors import KNeighborsClassifier\n",
        "from sklearn.naive_bayes import GaussianNB\n",
        "from xgboost import XGBClassifier,to_graphviz, plot_tree\n",
        "from sklearn.metrics import classification_report, roc_auc_score, accuracy_score,ConfusionMatrixDisplay,confusion_matrix\n",
        "from sklearn.model_selection import train_test_split, cross_val_score, RepeatedStratifiedKFold,cross_validate, GridSearchCV\n",
        "from sklearn.decomposition import PCA"
      ],
      "execution_count": null,
      "outputs": []
    },
    {
      "cell_type": "code",
      "metadata": {
        "id": "dmejEQcimDHq"
      },
      "source": [
        "adult = (pd.read_csv(\"/content/drive/MyDrive/adultke.csv\")).drop(\"Unnamed: 0\",axis=1)"
      ],
      "execution_count": null,
      "outputs": []
    },
    {
      "cell_type": "code",
      "metadata": {
        "id": "gQc4KWpNmINu",
        "colab": {
          "base_uri": "https://localhost:8080/",
          "height": 419
        },
        "outputId": "d9eac073-99e6-4a34-9daa-14c4ec660f18"
      },
      "source": [
        "adult"
      ],
      "execution_count": null,
      "outputs": [
        {
          "output_type": "execute_result",
          "data": {
            "text/html": [
              "<div>\n",
              "<style scoped>\n",
              "    .dataframe tbody tr th:only-of-type {\n",
              "        vertical-align: middle;\n",
              "    }\n",
              "\n",
              "    .dataframe tbody tr th {\n",
              "        vertical-align: top;\n",
              "    }\n",
              "\n",
              "    .dataframe thead th {\n",
              "        text-align: right;\n",
              "    }\n",
              "</style>\n",
              "<table border=\"1\" class=\"dataframe\">\n",
              "  <thead>\n",
              "    <tr style=\"text-align: right;\">\n",
              "      <th></th>\n",
              "      <th>age</th>\n",
              "      <th>workclass</th>\n",
              "      <th>fnlwgt</th>\n",
              "      <th>education</th>\n",
              "      <th>education-num</th>\n",
              "      <th>marital-status</th>\n",
              "      <th>occupation</th>\n",
              "      <th>relationship</th>\n",
              "      <th>race</th>\n",
              "      <th>sex</th>\n",
              "      <th>capital-gain</th>\n",
              "      <th>capital-loss</th>\n",
              "      <th>hours-per-week</th>\n",
              "      <th>native-country</th>\n",
              "      <th>target</th>\n",
              "    </tr>\n",
              "  </thead>\n",
              "  <tbody>\n",
              "    <tr>\n",
              "      <th>0</th>\n",
              "      <td>39</td>\n",
              "      <td>State-gov</td>\n",
              "      <td>77516</td>\n",
              "      <td>Bachelors</td>\n",
              "      <td>13</td>\n",
              "      <td>Never-married</td>\n",
              "      <td>Adm-clerical</td>\n",
              "      <td>Not-in-family</td>\n",
              "      <td>White</td>\n",
              "      <td>Male</td>\n",
              "      <td>2174</td>\n",
              "      <td>0</td>\n",
              "      <td>40</td>\n",
              "      <td>United-States</td>\n",
              "      <td>&lt;=50K</td>\n",
              "    </tr>\n",
              "    <tr>\n",
              "      <th>1</th>\n",
              "      <td>50</td>\n",
              "      <td>Self-emp-not-inc</td>\n",
              "      <td>83311</td>\n",
              "      <td>Bachelors</td>\n",
              "      <td>13</td>\n",
              "      <td>Married-civ-spouse</td>\n",
              "      <td>Exec-managerial</td>\n",
              "      <td>Husband</td>\n",
              "      <td>White</td>\n",
              "      <td>Male</td>\n",
              "      <td>0</td>\n",
              "      <td>0</td>\n",
              "      <td>13</td>\n",
              "      <td>United-States</td>\n",
              "      <td>&lt;=50K</td>\n",
              "    </tr>\n",
              "    <tr>\n",
              "      <th>2</th>\n",
              "      <td>38</td>\n",
              "      <td>Private</td>\n",
              "      <td>215646</td>\n",
              "      <td>HS-grad</td>\n",
              "      <td>9</td>\n",
              "      <td>Divorced</td>\n",
              "      <td>Handlers-cleaners</td>\n",
              "      <td>Not-in-family</td>\n",
              "      <td>White</td>\n",
              "      <td>Male</td>\n",
              "      <td>0</td>\n",
              "      <td>0</td>\n",
              "      <td>40</td>\n",
              "      <td>United-States</td>\n",
              "      <td>&lt;=50K</td>\n",
              "    </tr>\n",
              "    <tr>\n",
              "      <th>3</th>\n",
              "      <td>53</td>\n",
              "      <td>Private</td>\n",
              "      <td>234721</td>\n",
              "      <td>11th</td>\n",
              "      <td>7</td>\n",
              "      <td>Married-civ-spouse</td>\n",
              "      <td>Handlers-cleaners</td>\n",
              "      <td>Husband</td>\n",
              "      <td>Black</td>\n",
              "      <td>Male</td>\n",
              "      <td>0</td>\n",
              "      <td>0</td>\n",
              "      <td>40</td>\n",
              "      <td>United-States</td>\n",
              "      <td>&lt;=50K</td>\n",
              "    </tr>\n",
              "    <tr>\n",
              "      <th>4</th>\n",
              "      <td>28</td>\n",
              "      <td>Private</td>\n",
              "      <td>338409</td>\n",
              "      <td>Bachelors</td>\n",
              "      <td>13</td>\n",
              "      <td>Married-civ-spouse</td>\n",
              "      <td>Prof-specialty</td>\n",
              "      <td>Wife</td>\n",
              "      <td>Black</td>\n",
              "      <td>Female</td>\n",
              "      <td>0</td>\n",
              "      <td>0</td>\n",
              "      <td>40</td>\n",
              "      <td>Cuba</td>\n",
              "      <td>&lt;=50K</td>\n",
              "    </tr>\n",
              "    <tr>\n",
              "      <th>...</th>\n",
              "      <td>...</td>\n",
              "      <td>...</td>\n",
              "      <td>...</td>\n",
              "      <td>...</td>\n",
              "      <td>...</td>\n",
              "      <td>...</td>\n",
              "      <td>...</td>\n",
              "      <td>...</td>\n",
              "      <td>...</td>\n",
              "      <td>...</td>\n",
              "      <td>...</td>\n",
              "      <td>...</td>\n",
              "      <td>...</td>\n",
              "      <td>...</td>\n",
              "      <td>...</td>\n",
              "    </tr>\n",
              "    <tr>\n",
              "      <th>45217</th>\n",
              "      <td>33</td>\n",
              "      <td>Private</td>\n",
              "      <td>245211</td>\n",
              "      <td>Bachelors</td>\n",
              "      <td>13</td>\n",
              "      <td>Never-married</td>\n",
              "      <td>Prof-specialty</td>\n",
              "      <td>Own-child</td>\n",
              "      <td>White</td>\n",
              "      <td>Male</td>\n",
              "      <td>0</td>\n",
              "      <td>0</td>\n",
              "      <td>40</td>\n",
              "      <td>United-States</td>\n",
              "      <td>&lt;=50K</td>\n",
              "    </tr>\n",
              "    <tr>\n",
              "      <th>45218</th>\n",
              "      <td>39</td>\n",
              "      <td>Private</td>\n",
              "      <td>215419</td>\n",
              "      <td>Bachelors</td>\n",
              "      <td>13</td>\n",
              "      <td>Divorced</td>\n",
              "      <td>Prof-specialty</td>\n",
              "      <td>Not-in-family</td>\n",
              "      <td>White</td>\n",
              "      <td>Female</td>\n",
              "      <td>0</td>\n",
              "      <td>0</td>\n",
              "      <td>36</td>\n",
              "      <td>United-States</td>\n",
              "      <td>&lt;=50K</td>\n",
              "    </tr>\n",
              "    <tr>\n",
              "      <th>45219</th>\n",
              "      <td>38</td>\n",
              "      <td>Private</td>\n",
              "      <td>374983</td>\n",
              "      <td>Bachelors</td>\n",
              "      <td>13</td>\n",
              "      <td>Married-civ-spouse</td>\n",
              "      <td>Prof-specialty</td>\n",
              "      <td>Husband</td>\n",
              "      <td>White</td>\n",
              "      <td>Male</td>\n",
              "      <td>0</td>\n",
              "      <td>0</td>\n",
              "      <td>50</td>\n",
              "      <td>United-States</td>\n",
              "      <td>&lt;=50K</td>\n",
              "    </tr>\n",
              "    <tr>\n",
              "      <th>45220</th>\n",
              "      <td>44</td>\n",
              "      <td>Private</td>\n",
              "      <td>83891</td>\n",
              "      <td>Bachelors</td>\n",
              "      <td>13</td>\n",
              "      <td>Divorced</td>\n",
              "      <td>Adm-clerical</td>\n",
              "      <td>Own-child</td>\n",
              "      <td>Asian-Pac-Islander</td>\n",
              "      <td>Male</td>\n",
              "      <td>5455</td>\n",
              "      <td>0</td>\n",
              "      <td>40</td>\n",
              "      <td>United-States</td>\n",
              "      <td>&lt;=50K</td>\n",
              "    </tr>\n",
              "    <tr>\n",
              "      <th>45221</th>\n",
              "      <td>35</td>\n",
              "      <td>Self-emp-inc</td>\n",
              "      <td>182148</td>\n",
              "      <td>Bachelors</td>\n",
              "      <td>13</td>\n",
              "      <td>Married-civ-spouse</td>\n",
              "      <td>Exec-managerial</td>\n",
              "      <td>Husband</td>\n",
              "      <td>White</td>\n",
              "      <td>Male</td>\n",
              "      <td>0</td>\n",
              "      <td>0</td>\n",
              "      <td>60</td>\n",
              "      <td>United-States</td>\n",
              "      <td>&gt;50K</td>\n",
              "    </tr>\n",
              "  </tbody>\n",
              "</table>\n",
              "<p>45222 rows × 15 columns</p>\n",
              "</div>"
            ],
            "text/plain": [
              "       age          workclass  fnlwgt  ... hours-per-week  native-country target\n",
              "0       39          State-gov   77516  ...             40   United-States  <=50K\n",
              "1       50   Self-emp-not-inc   83311  ...             13   United-States  <=50K\n",
              "2       38            Private  215646  ...             40   United-States  <=50K\n",
              "3       53            Private  234721  ...             40   United-States  <=50K\n",
              "4       28            Private  338409  ...             40            Cuba  <=50K\n",
              "...    ...                ...     ...  ...            ...             ...    ...\n",
              "45217   33            Private  245211  ...             40   United-States  <=50K\n",
              "45218   39            Private  215419  ...             36   United-States  <=50K\n",
              "45219   38            Private  374983  ...             50   United-States  <=50K\n",
              "45220   44            Private   83891  ...             40   United-States  <=50K\n",
              "45221   35       Self-emp-inc  182148  ...             60   United-States   >50K\n",
              "\n",
              "[45222 rows x 15 columns]"
            ]
          },
          "metadata": {},
          "execution_count": 3
        }
      ]
    },
    {
      "cell_type": "code",
      "metadata": {
        "id": "n574sazbop-e"
      },
      "source": [
        "adultWithdummy = pd.get_dummies(adult,drop_first=True)"
      ],
      "execution_count": null,
      "outputs": []
    },
    {
      "cell_type": "code",
      "metadata": {
        "id": "l9UojGHtnY-O"
      },
      "source": [
        ""
      ],
      "execution_count": null,
      "outputs": []
    },
    {
      "cell_type": "code",
      "metadata": {
        "id": "qagYxZiTsOzY"
      },
      "source": [
        "X = pd.get_dummies(adult.drop(\"target\",axis=1),drop_first=True,dtype=float)\n",
        "y = pd.get_dummies(adult.target,drop_first=True,dtype=float)+1\n",
        "y[y == 2] = 0\n",
        "y = y.to_numpy().ravel()"
      ],
      "execution_count": null,
      "outputs": []
    },
    {
      "cell_type": "code",
      "metadata": {
        "id": "YCU22Fg-snzu"
      },
      "source": [
        "X_train, X_test, y_train, y_test = train_test_split(X,y,random_state=42,test_size=0.2,stratify=y)"
      ],
      "execution_count": null,
      "outputs": []
    },
    {
      "cell_type": "code",
      "metadata": {
        "id": "h-3hCLd5sp-8"
      },
      "source": [
        "col_names2 = [\"Model\",\"Accuracy\",\"Roc - Auc\",\"F1\",\"Recall\",\"Precision\"]\n",
        "scores = pd.DataFrame(columns=col_names2)\n",
        "modeller = [XGBClassifier(),RandomForestClassifier(),DecisionTreeClassifier(),LogisticRegression()]\n",
        "modeller2 = [KNeighborsClassifier(),SVC(),MLPClassifier(),GaussianNB()]\n",
        "modelnames = [\"XGBoost\",\"Random Forest\",\"Decision Tree\",\"Logistic Regression\"]\n",
        "modelnames2 = [\"K-NN\",\"SVC\",\"Neural Networks\",\"Naive Bayes\"]\n",
        "pd.DataFrame({})\n",
        "def modeldensec(modeller):\n",
        "  global scores\n",
        "  skb = SelectKBest(chi2).fit(X_train,y_train)\n",
        "  x_trainchi = skb.transform(X_train)\n",
        "  for i,j in zip(modeller,range(len(modelnames))):\n",
        "    clf = SelectFromModel(i).fit(X_train,y_train)\n",
        "    xtrain = clf.transform(X_train)\n",
        "    testscores = cross_validate(i,xtrain,y_train,scoring=[\"accuracy\",\"roc_auc\",\"f1\",\"recall\",\"precision\"],cv=5,n_jobs=-1)\n",
        "    auc = testscores[\"test_roc_auc\"].mean()\n",
        "    accu = testscores[\"test_accuracy\"].mean()\n",
        "    f1 = testscores[\"test_f1\"].mean()\n",
        "    reca = testscores[\"test_recall\"].mean()\n",
        "    pre = testscores[\"test_precision\"].mean()\n",
        "    scores = scores.append({\"Model\":modelnames[j],\"Accuracy\":accu,\"Roc - Auc\":auc,\"F1\":f1,\"Recall\":reca,\"Precision\":pre},ignore_index=True)\n",
        "  \n",
        "  for z,v in zip(modeller2,range(len(modelnames2))):\n",
        "    testscores = cross_validate(z,x_trainchi,y_train,scoring=[\"accuracy\",\"roc_auc\",\"f1\",\"recall\",\"precision\"],cv=5,n_jobs=-1)\n",
        "    auc = testscores[\"test_roc_auc\"].mean()\n",
        "    accu = testscores[\"test_accuracy\"].mean()\n",
        "    f1 = testscores[\"test_f1\"].mean()\n",
        "    reca = testscores[\"test_recall\"].mean()\n",
        "    pre = testscores[\"test_precision\"].mean()\n",
        "    scores = scores.append({\"Model\":modelnames2[v],\"Accuracy\":accu,\"Roc - Auc\":auc,\"F1\":f1,\"Recall\":reca,\"Precision\":pre},ignore_index=True)\n",
        "  return scores\n"
      ],
      "execution_count": null,
      "outputs": []
    },
    {
      "cell_type": "code",
      "metadata": {
        "colab": {
          "base_uri": "https://localhost:8080/",
          "height": 297
        },
        "id": "jLRyjT2es9ml",
        "outputId": "3287d054-2289-4704-bf6a-ff3953bdfa78"
      },
      "source": [
        "modeldensec(modeller)"
      ],
      "execution_count": null,
      "outputs": [
        {
          "output_type": "execute_result",
          "data": {
            "text/html": [
              "<div>\n",
              "<style scoped>\n",
              "    .dataframe tbody tr th:only-of-type {\n",
              "        vertical-align: middle;\n",
              "    }\n",
              "\n",
              "    .dataframe tbody tr th {\n",
              "        vertical-align: top;\n",
              "    }\n",
              "\n",
              "    .dataframe thead th {\n",
              "        text-align: right;\n",
              "    }\n",
              "</style>\n",
              "<table border=\"1\" class=\"dataframe\">\n",
              "  <thead>\n",
              "    <tr style=\"text-align: right;\">\n",
              "      <th></th>\n",
              "      <th>Model</th>\n",
              "      <th>Accuracy</th>\n",
              "      <th>Roc - Auc</th>\n",
              "      <th>F1</th>\n",
              "      <th>Recall</th>\n",
              "      <th>Precision</th>\n",
              "    </tr>\n",
              "  </thead>\n",
              "  <tbody>\n",
              "    <tr>\n",
              "      <th>0</th>\n",
              "      <td>XGBoost</td>\n",
              "      <td>0.861155</td>\n",
              "      <td>0.918716</td>\n",
              "      <td>0.911328</td>\n",
              "      <td>0.948550</td>\n",
              "      <td>0.876925</td>\n",
              "    </tr>\n",
              "    <tr>\n",
              "      <th>1</th>\n",
              "      <td>Random Forest</td>\n",
              "      <td>0.843879</td>\n",
              "      <td>0.896131</td>\n",
              "      <td>0.898238</td>\n",
              "      <td>0.916063</td>\n",
              "      <td>0.881107</td>\n",
              "    </tr>\n",
              "    <tr>\n",
              "      <th>2</th>\n",
              "      <td>Decision Tree</td>\n",
              "      <td>0.805844</td>\n",
              "      <td>0.742537</td>\n",
              "      <td>0.870557</td>\n",
              "      <td>0.868179</td>\n",
              "      <td>0.873006</td>\n",
              "    </tr>\n",
              "    <tr>\n",
              "      <th>3</th>\n",
              "      <td>Logistic Regression</td>\n",
              "      <td>0.823368</td>\n",
              "      <td>0.860599</td>\n",
              "      <td>0.886084</td>\n",
              "      <td>0.913270</td>\n",
              "      <td>0.860514</td>\n",
              "    </tr>\n",
              "    <tr>\n",
              "      <th>4</th>\n",
              "      <td>K-NN</td>\n",
              "      <td>0.769743</td>\n",
              "      <td>0.669785</td>\n",
              "      <td>0.856651</td>\n",
              "      <td>0.914703</td>\n",
              "      <td>0.805534</td>\n",
              "    </tr>\n",
              "    <tr>\n",
              "      <th>5</th>\n",
              "      <td>SVC</td>\n",
              "      <td>0.789037</td>\n",
              "      <td>0.628909</td>\n",
              "      <td>0.876869</td>\n",
              "      <td>0.998677</td>\n",
              "      <td>0.781546</td>\n",
              "    </tr>\n",
              "    <tr>\n",
              "      <th>6</th>\n",
              "      <td>Neural Networks</td>\n",
              "      <td>0.694862</td>\n",
              "      <td>0.694952</td>\n",
              "      <td>0.761915</td>\n",
              "      <td>0.761339</td>\n",
              "      <td>0.858733</td>\n",
              "    </tr>\n",
              "    <tr>\n",
              "      <th>7</th>\n",
              "      <td>Naive Bayes</td>\n",
              "      <td>0.788374</td>\n",
              "      <td>0.823413</td>\n",
              "      <td>0.870712</td>\n",
              "      <td>0.947411</td>\n",
              "      <td>0.805505</td>\n",
              "    </tr>\n",
              "  </tbody>\n",
              "</table>\n",
              "</div>"
            ],
            "text/plain": [
              "                 Model  Accuracy  Roc - Auc        F1    Recall  Precision\n",
              "0              XGBoost  0.861155   0.918716  0.911328  0.948550   0.876925\n",
              "1        Random Forest  0.843879   0.896131  0.898238  0.916063   0.881107\n",
              "2        Decision Tree  0.805844   0.742537  0.870557  0.868179   0.873006\n",
              "3  Logistic Regression  0.823368   0.860599  0.886084  0.913270   0.860514\n",
              "4                 K-NN  0.769743   0.669785  0.856651  0.914703   0.805534\n",
              "5                  SVC  0.789037   0.628909  0.876869  0.998677   0.781546\n",
              "6      Neural Networks  0.694862   0.694952  0.761915  0.761339   0.858733\n",
              "7          Naive Bayes  0.788374   0.823413  0.870712  0.947411   0.805505"
            ]
          },
          "metadata": {},
          "execution_count": 24
        }
      ]
    },
    {
      "cell_type": "code",
      "metadata": {
        "colab": {
          "base_uri": "https://localhost:8080/",
          "height": 382
        },
        "id": "eVCe7-WyiV3I",
        "outputId": "24313e6a-a04c-47f7-e13b-5caa80087312"
      },
      "source": [
        "plt.style.use(\"seaborn\")\n",
        "fig, ax = plt.subplots(1,2,figsize=(10,4),dpi=100)\n",
        "p1 = sns.barplot(x=scores.Accuracy*100,y=scores.Model,ax=ax[0]);\n",
        "p2 = sns.barplot(x=scores[\"Roc - Auc\"]*100,y=scores.Model,ax=ax[1]).set(yticklabels=[],ylabel=\"\");"
      ],
      "execution_count": null,
      "outputs": [
        {
          "output_type": "display_data",
          "data": {
            "image/png": "[encoded data removed]",
            "text/plain": [
              "<Figure size 1000x400 with 2 Axes>"
            ]
          },
          "metadata": {}
        }
      ]
    },
    {
      "cell_type": "code",
      "metadata": {
        "id": "SmLd-ZfKpa7d"
      },
      "source": [
        "# Bakıldığında modelimiz için Doğruluk ve Auc skoru olarak en iyi sonuçlar XGBoost algoritmasında elde edilmiştir."
      ],
      "execution_count": null,
      "outputs": []
    },
    {
      "cell_type": "code",
      "metadata": {
        "colab": {
          "base_uri": "https://localhost:8080/"
        },
        "id": "ERrcPvOXq7nl",
        "outputId": "deb3c10d-4abe-4e49-a421-edd6e81e1b7d"
      },
      "source": [
        "#x_train = (SelectFromModel(XGBClassifier()).fit(X_train,y_train)).transform(X_train)\n",
        "#x_test = (SelectFromModel(XGBClassifier()).fit(X_train,y_train)).transform(X_test)\n",
        "param_grid = {\"max_depth\":np.arange(7,20,2),\n",
        "              \"n_estimators\":np.arange(100,301,50),\n",
        "              \"colsample_bytree\":[0.01,0.05,0.1,0.5],\n",
        "              \"subsample\":[0.05,0.1,0.5,1],\n",
        "              \"learning_rate\":[0.05,0.1,0.3,0.5]}\n",
        "clf = GridSearchCV(XGBClassifier(tree_method=\"gpu_hist\"),param_grid=param_grid,n_jobs=-1,verbose=2)\n",
        "t1 = time.time()\n",
        "clf.fit(x_train,y_train)\n",
        "t2 = time.time()"
      ],
      "execution_count": null,
      "outputs": [
        {
          "output_type": "stream",
          "name": "stdout",
          "text": [
            "Fitting 5 folds for each of 2240 candidates, totalling 11200 fits\n"
          ]
        },
        {
          "output_type": "stream",
          "name": "stderr",
          "text": [
            "[Parallel(n_jobs=-1)]: Using backend LokyBackend with 2 concurrent workers.\n",
            "[Parallel(n_jobs=-1)]: Done  37 tasks      | elapsed:   27.4s\n"
          ]
        }
      ]
    },
    {
      "cell_type": "code",
      "metadata": {
        "colab": {
          "base_uri": "https://localhost:8080/"
        },
        "id": "rxfI_Ze5lRJL",
        "outputId": "484999a9-b217-489f-f277-4874a9a9565b"
      },
      "source": [
        "print(clf.best_params_)\n",
        "clf.best_estimator_"
      ],
      "execution_count": null,
      "outputs": [
        {
          "output_type": "stream",
          "text": [
            "{'colsample_bytree': 0.5, 'learning_rate': 0.05, 'max_depth': 7, 'n_estimators': 250, 'subsample': 1}\n"
          ],
          "name": "stdout"
        },
        {
          "output_type": "execute_result",
          "data": {
            "text/plain": [
              "XGBClassifier(base_score=0.5, booster='gbtree', colsample_bylevel=1,\n",
              "              colsample_bynode=1, colsample_bytree=0.5, gamma=0,\n",
              "              learning_rate=0.05, max_delta_step=0, max_depth=7,\n",
              "              min_child_weight=1, missing=None, n_estimators=250, n_jobs=1,\n",
              "              nthread=None, objective='binary:logistic', random_state=0,\n",
              "              reg_alpha=0, reg_lambda=1, scale_pos_weight=1, seed=None,\n",
              "              silent=None, subsample=1, verbosity=1)"
            ]
          },
          "metadata": {},
          "execution_count": 96
        }
      ]
    },
    {
      "cell_type": "code",
      "metadata": {
        "id": "67q8cA1TlSQS"
      },
      "source": [
        "import time\n",
        "clf = SelectFromModel(XGBClassifier()).fit(X_train,y_train)\n",
        "x_train = pd.DataFrame((SelectFromModel(XGBClassifier()).fit(X_train,y_train)).transform(X))\n",
        "x_train.columns = fmap\n",
        "x_train.rename(columns = lambda x: x.replace(' ', '_'), inplace=True)\n",
        "x_test = (SelectFromModel(XGBClassifier()).fit(X_train,y_train)).transform(X_test)\n",
        "model = XGBClassifier(base_score=0.5, booster='gbtree', colsample_bylevel=1,\n",
        "             colsample_bynode=1, colsample_bytree=0.5, gamma=0,\n",
        "            learning_rate=0.05, max_delta_step=0, max_depth=7,\n",
        "            min_child_weight=1, missing=None, n_estimators=250, n_jobs=1,\n",
        "            nthread=None, objective='binary:logistic', random_state=0,\n",
        "            reg_alpha=0, reg_lambda=1, scale_pos_weight=1, seed=None,\n",
        "            silent=None, subsample=1, verbosity=1,tree_method=\"gpu_hist\").fit(x_train,y_train)\n",
        "scores = cross_validate(model,x_train,y_train,scoring=[\"accuracy\",\"roc_auc\",\"recall\",\"precision\",\"f1\"],cv=5)"
      ],
      "execution_count": null,
      "outputs": []
    },
    {
      "cell_type": "code",
      "metadata": {
        "id": "Dv5Uro9DlonC"
      },
      "source": [
        "tuned_scores = pd.DataFrame(columns=[\"Score Type\",\"Scores\"])\n",
        "tuned_scores[\"Score Type\"] = np.array([\"Accuracy\",\"Roc - Auc\",\"Recall\",\"Precision\",\"F1 Score\"])\n",
        "tuned_scores[\"Scores\"] = np.array([scores[\"test_accuracy\"].mean(),scores[\"test_roc_auc\"].mean(),scores[\"test_recall\"].mean(),scores[\"test_precision\"].mean(),scores[\"test_f1\"].mean(),])"
      ],
      "execution_count": null,
      "outputs": []
    },
    {
      "cell_type": "code",
      "metadata": {
        "id": "JT0KubV6l5nS",
        "colab": {
          "base_uri": "https://localhost:8080/",
          "height": 204
        },
        "outputId": "404e685c-2845-48c9-ed0b-60233de92153"
      },
      "source": [
        "tuned_scores"
      ],
      "execution_count": null,
      "outputs": [
        {
          "output_type": "execute_result",
          "data": {
            "text/html": [
              "<div>\n",
              "<style scoped>\n",
              "    .dataframe tbody tr th:only-of-type {\n",
              "        vertical-align: middle;\n",
              "    }\n",
              "\n",
              "    .dataframe tbody tr th {\n",
              "        vertical-align: top;\n",
              "    }\n",
              "\n",
              "    .dataframe thead th {\n",
              "        text-align: right;\n",
              "    }\n",
              "</style>\n",
              "<table border=\"1\" class=\"dataframe\">\n",
              "  <thead>\n",
              "    <tr style=\"text-align: right;\">\n",
              "      <th></th>\n",
              "      <th>Score Type</th>\n",
              "      <th>Scores</th>\n",
              "    </tr>\n",
              "  </thead>\n",
              "  <tbody>\n",
              "    <tr>\n",
              "      <th>0</th>\n",
              "      <td>Accuracy</td>\n",
              "      <td>0.868950</td>\n",
              "    </tr>\n",
              "    <tr>\n",
              "      <th>1</th>\n",
              "      <td>Roc - Auc</td>\n",
              "      <td>0.927296</td>\n",
              "    </tr>\n",
              "    <tr>\n",
              "      <th>2</th>\n",
              "      <td>Recall</td>\n",
              "      <td>0.942192</td>\n",
              "    </tr>\n",
              "    <tr>\n",
              "      <th>3</th>\n",
              "      <td>Precision</td>\n",
              "      <td>0.890030</td>\n",
              "    </tr>\n",
              "    <tr>\n",
              "      <th>4</th>\n",
              "      <td>F1 Score</td>\n",
              "      <td>0.915367</td>\n",
              "    </tr>\n",
              "  </tbody>\n",
              "</table>\n",
              "</div>"
            ],
            "text/plain": [
              "  Score Type    Scores\n",
              "0   Accuracy  0.868950\n",
              "1  Roc - Auc  0.927296\n",
              "2     Recall  0.942192\n",
              "3  Precision  0.890030\n",
              "4   F1 Score  0.915367"
            ]
          },
          "metadata": {},
          "execution_count": 105
        }
      ]
    },
    {
      "cell_type": "code",
      "metadata": {
        "colab": {
          "base_uri": "https://localhost:8080/",
          "height": 844
        },
        "id": "OhmUldJ3oIzU",
        "outputId": "9ed4235d-6fed-4c3b-9b2f-d2a7f470e7bf"
      },
      "source": [
        "plt.style.use(\"seaborn-dark\")\n",
        "sns.barplot(x=tuned_scores.Scores*100,y=tuned_scores[\"Score Type\"]);\n",
        "plot_confusion_matrix(model,x_test,y_test,cmap=\"rocket\")\n"
      ],
      "execution_count": null,
      "outputs": [
        {
          "output_type": "execute_result",
          "data": {
            "text/plain": [
              "<sklearn.metrics._plot.confusion_matrix.ConfusionMatrixDisplay at 0x7f06c84a3290>"
            ]
          },
          "metadata": {},
          "execution_count": 106
        },
        {
          "output_type": "display_data",
          "data": {
            "image/png": "[encoded data removed]",
            "text/plain": [
              "<Figure size 640x440 with 1 Axes>"
            ]
          },
          "metadata": {}
        },
        {
          "output_type": "display_data",
          "data": {
            "image/png": "[encoded data removed]",
            "text/plain": [
              "<Figure size 640x440 with 2 Axes>"
            ]
          },
          "metadata": {}
        }
      ]
    },
    {
      "cell_type": "code",
      "metadata": {
        "id": "gMIUxIvF9aTs"
      },
      "source": [
        ""
      ],
      "execution_count": null,
      "outputs": []
    }
  ]
}